{
 "cells": [
  {
   "cell_type": "code",
   "execution_count": 11,
   "metadata": {
    "collapsed": true
   },
   "outputs": [],
   "source": [
    "# USE PGMPY\n",
    "# 0: True 1: False\n",
    "\n",
    "from pgmpy.models import BayesianModel\n",
    "from pgmpy.factors.discrete import TabularCPD\n",
    "from pgmpy.inference import VariableElimination"
   ]
  },
  {
   "cell_type": "code",
   "execution_count": 12,
   "metadata": {
    "collapsed": true
   },
   "outputs": [],
   "source": [
    "pgmpyMdoel = BayesianModel([('a','b'),('d','b'),('b','e'),('b','c'),('x','c'),('y','c')])\n",
    "\n",
    "cpd_a = TabularCPD('a',2,[[0.2],[0.8]])\n",
    "cpd_d = TabularCPD('d',2,[[0.4],[0.6]])\n",
    "cpd_b = TabularCPD('b',2,[[0.2,0.6,0.55,0.9],[0.8,0.4,0.45,0.1]],evidence=['a','d'],evidence_card=[2,2])\n",
    "cpd_e = TabularCPD('e',2,[[0.78,0.8],[0.22,0.2]],evidence=['b'],evidence_card=[2])\n",
    "cpd_c = TabularCPD('c',2,[[0.1,0.2,0.3,0.4,0.5,0.6,0.7,0.8],\\\n",
    "                          [0.9,0.8,0.7,0.6,0.5,0.4,0.3,0.2]],evidence=['b','x','y'],evidence_card=[2,2,2])\n",
    "cpd_x = TabularCPD('x',2,[[0.34],[0.67]])\n",
    "cpd_y = TabularCPD('y',2,[[0.7],[0.3]])\n",
    "\n",
    "pgmpyMdoel.add_cpds(cpd_a,cpd_d,cpd_b,cpd_e,cpd_c,cpd_x,cpd_y)\n",
    "\n",
    "infer = VariableElimination(pgmpyMdoel)"
   ]
  },
  {
   "cell_type": "code",
   "execution_count": 21,
   "metadata": {},
   "outputs": [
    {
     "name": "stdout",
     "output_type": "stream",
     "text": [
      "╒═════╤══════════╕\n",
      "│ c   │   phi(c) │\n",
      "╞═════╪══════════╡\n",
      "│ c_0 │   0.2216 │\n",
      "├─────┼──────────┤\n",
      "│ c_1 │   0.7784 │\n",
      "╘═════╧══════════╛\n",
      "╒═════╤══════════╕\n",
      "│ b   │   phi(b) │\n",
      "╞═════╪══════════╡\n",
      "│ b_0 │   0.2629 │\n",
      "├─────┼──────────┤\n",
      "│ b_1 │   0.7371 │\n",
      "╘═════╧══════════╛\n",
      "╒═════╤══════════╕\n",
      "│ e   │   phi(e) │\n",
      "╞═════╪══════════╡\n",
      "│ e_0 │   0.7880 │\n",
      "├─────┼──────────┤\n",
      "│ e_1 │   0.2120 │\n",
      "╘═════╧══════════╛\n"
     ]
    }
   ],
   "source": [
    "posteriors = infer.query(['c'], evidence={'x': 0, 'y': 0})\n",
    "print(posteriors['c'])"
   ]
  },
  {
   "cell_type": "code",
   "execution_count": 22,
   "metadata": {},
   "outputs": [
    {
     "name": "stdout",
     "output_type": "stream",
     "text": [
      "╒═════╤══════════╕\n",
      "│ b   │   phi(b) │\n",
      "╞═════╪══════════╡\n",
      "│ b_0 │   0.2629 │\n",
      "├─────┼──────────┤\n",
      "│ b_1 │   0.7371 │\n",
      "╘═════╧══════════╛\n",
      "Time taken: 0.03472161199897528\n"
     ]
    }
   ],
   "source": [
    "posteriors = infer.query(['b'], evidence={'c': 0, 'a': 0,'y':1})\n",
    "print(posteriors['b'])"
   ]
  },
  {
   "cell_type": "code",
   "execution_count": 15,
   "metadata": {},
   "outputs": [
    {
     "name": "stdout",
     "output_type": "stream",
     "text": [
      "╒═════╤══════════╕\n",
      "│ e   │   phi(e) │\n",
      "╞═════╪══════════╡\n",
      "│ e_0 │   0.7880 │\n",
      "├─────┼──────────┤\n",
      "│ e_1 │   0.2120 │\n",
      "╘═════╧══════════╛\n"
     ]
    }
   ],
   "source": [
    "posteriors = infer.query(['e'], evidence={'a': 0,'d':1})\n",
    "print(posteriors['e'])"
   ]
  },
  {
   "cell_type": "code",
   "execution_count": 16,
   "metadata": {
    "collapsed": true
   },
   "outputs": [],
   "source": [
    "# USE MY BAYESIANNET TOOLBOX\n",
    "\n",
    "from bayesianNet import *"
   ]
  },
  {
   "cell_type": "code",
   "execution_count": 17,
   "metadata": {
    "collapsed": true
   },
   "outputs": [],
   "source": [
    "myModel = BayesianModel([('a','b'),('d','b'),('b','e'),('b','c'),('x','c'),('y','c')])\n",
    "\n",
    "myModel.add_cpd('a',[[0.2],[0.8]])\n",
    "myModel.add_cpd('d',[[0.4],[0.6]])\n",
    "myModel.add_cpd('b',[[0.2,0.6,0.55,0.9],[0.8,0.4,0.45,0.1]],evidences=['a','d'])\n",
    "myModel.add_cpd('e',[[0.78,0.8],[0.22,0.2]],evidences=['b'])\n",
    "myModel.add_cpd('c',[[0.1,0.2,0.3,0.4,0.5,0.6,0.7,0.8],\\\n",
    "                          [0.9,0.8,0.7,0.6,0.5,0.4,0.3,0.2]],evidences=['b','x','y'])\n",
    "myModel.add_cpd('x',[[0.34],[0.67]])\n",
    "myModel.add_cpd('y',[[0.7],[0.3]])\n",
    "\n",
    "ve = VE(myModel)"
   ]
  },
  {
   "cell_type": "code",
   "execution_count": 18,
   "metadata": {},
   "outputs": [
    {
     "name": "stdout",
     "output_type": "stream",
     "text": [
      "Variables: ('c',)\n",
      " Probability Distribution:\n",
      "{(True,): 0.22160000000000002, (False,): 0.7784}\n",
      "\n"
     ]
    },
    {
     "data": {
      "text/plain": [
       "<bayesianNet.Factor at 0x11951feb8>"
      ]
     },
     "execution_count": 18,
     "metadata": {},
     "output_type": "execute_result"
    }
   ],
   "source": [
    "ve.query(['c'], {'x': True, 'y': True})"
   ]
  },
  {
   "cell_type": "code",
   "execution_count": 23,
   "metadata": {},
   "outputs": [
    {
     "name": "stdout",
     "output_type": "stream",
     "text": [
      "Variables: ('b',)\n",
      " Probability Distribution:\n",
      "{(True,): 0.2629482071713148, (False,): 0.7370517928286854}\n",
      "\n",
      "Time taken: 0.0032812109566293657\n"
     ]
    }
   ],
   "source": [
    "ve.query(['b'], {'c': True, 'a': True,'y':False})"
   ]
  },
  {
   "cell_type": "code",
   "execution_count": 20,
   "metadata": {},
   "outputs": [
    {
     "name": "stdout",
     "output_type": "stream",
     "text": [
      "Variables: ('e',)\n",
      " Probability Distribution:\n",
      "{(True,): 0.7879999999999999, (False,): 0.21200000000000005}\n",
      "\n"
     ]
    },
    {
     "data": {
      "text/plain": [
       "<bayesianNet.Factor at 0x119579a90>"
      ]
     },
     "execution_count": 20,
     "metadata": {},
     "output_type": "execute_result"
    }
   ],
   "source": [
    "ve.query(['e'], {'a': True, 'd': True,'y':False})"
   ]
  }
 ],
 "metadata": {
  "kernelspec": {
   "display_name": "Python 3",
   "language": "python",
   "name": "python3"
  },
  "language_info": {
   "codemirror_mode": {
    "name": "ipython",
    "version": 3
   },
   "file_extension": ".py",
   "mimetype": "text/x-python",
   "name": "python",
   "nbconvert_exporter": "python",
   "pygments_lexer": "ipython3",
   "version": "3.6.1"
  }
 },
 "nbformat": 4,
 "nbformat_minor": 1
}
