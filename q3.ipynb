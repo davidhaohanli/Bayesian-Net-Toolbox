{
 "cells": [
  {
   "cell_type": "markdown",
   "metadata": {},
   "source": [
    "# Q3.  \n",
    "<br\\>\n",
    "## Model 1\n",
    "##### USE PGMPY\n",
    "-  0: True 1: False"
   ]
  },
  {
   "cell_type": "code",
   "execution_count": 19,
   "metadata": {
    "collapsed": true
   },
   "outputs": [],
   "source": [
    "from pgmpy.models import BayesianModel\n",
    "from pgmpy.factors.discrete import TabularCPD\n",
    "from pgmpy.inference import VariableElimination"
   ]
  },
  {
   "cell_type": "code",
   "execution_count": 20,
   "metadata": {
    "collapsed": true
   },
   "outputs": [],
   "source": [
    "pgmpyMdoel = BayesianModel([('a','b'),('d','b'),('b','e'),('b','c'),('x','c'),('y','c')])\n",
    "\n",
    "cpd_a = TabularCPD('a',2,[[0.2],[0.8]])\n",
    "cpd_d = TabularCPD('d',2,[[0.4],[0.6]])\n",
    "cpd_b = TabularCPD('b',2,[[0.2,0.6,0.55,0.9],[0.8,0.4,0.45,0.1]],evidence=['a','d'],evidence_card=[2,2])\n",
    "cpd_e = TabularCPD('e',2,[[0.78,0.8],[0.22,0.2]],evidence=['b'],evidence_card=[2])\n",
    "cpd_c = TabularCPD('c',2,[[0.1,0.2,0.3,0.4,0.5,0.6,0.7,0.8],\\\n",
    "                          [0.9,0.8,0.7,0.6,0.5,0.4,0.3,0.2]],evidence=['b','x','y'],evidence_card=[2,2,2])\n",
    "cpd_x = TabularCPD('x',2,[[0.34],[0.67]])\n",
    "cpd_y = TabularCPD('y',2,[[0.7],[0.3]])\n",
    "\n",
    "pgmpyMdoel.add_cpds(cpd_a,cpd_d,cpd_b,cpd_e,cpd_c,cpd_x,cpd_y)\n",
    "\n",
    "infer = VariableElimination(pgmpyMdoel)"
   ]
  },
  {
   "cell_type": "code",
   "execution_count": 21,
   "metadata": {},
   "outputs": [
    {
     "name": "stdout",
     "output_type": "stream",
     "text": [
      "╒═════╤══════════╕\n",
      "│ c   │   phi(c) │\n",
      "╞═════╪══════════╡\n",
      "│ c_0 │   0.2216 │\n",
      "├─────┼──────────┤\n",
      "│ c_1 │   0.7784 │\n",
      "╘═════╧══════════╛\n"
     ]
    }
   ],
   "source": [
    "posteriors = infer.query(['c'], evidence={'x': 0, 'y': 0})\n",
    "print(posteriors['c'])"
   ]
  },
  {
   "cell_type": "code",
   "execution_count": 22,
   "metadata": {},
   "outputs": [
    {
     "name": "stdout",
     "output_type": "stream",
     "text": [
      "╒═════╤══════════╕\n",
      "│ b   │   phi(b) │\n",
      "╞═════╪══════════╡\n",
      "│ b_0 │   0.2629 │\n",
      "├─────┼──────────┤\n",
      "│ b_1 │   0.7371 │\n",
      "╘═════╧══════════╛\n"
     ]
    }
   ],
   "source": [
    "posteriors = infer.query(['b'], evidence={'c': 0, 'a': 0,'y':1})\n",
    "print(posteriors['b'])"
   ]
  },
  {
   "cell_type": "code",
   "execution_count": 23,
   "metadata": {},
   "outputs": [
    {
     "name": "stdout",
     "output_type": "stream",
     "text": [
      "╒═════╤══════════╕\n",
      "│ e   │   phi(e) │\n",
      "╞═════╪══════════╡\n",
      "│ e_0 │   0.7880 │\n",
      "├─────┼──────────┤\n",
      "│ e_1 │   0.2120 │\n",
      "╘═════╧══════════╛\n"
     ]
    }
   ],
   "source": [
    "posteriors = infer.query(['e'], evidence={'a': 0,'d':1})\n",
    "print(posteriors['e'])"
   ]
  },
  {
   "cell_type": "markdown",
   "metadata": {},
   "source": [
    "##### USE MY BAYESIANNET TOOLBOX"
   ]
  },
  {
   "cell_type": "code",
   "execution_count": 24,
   "metadata": {
    "collapsed": true
   },
   "outputs": [],
   "source": [
    "from bayesianNet import *"
   ]
  },
  {
   "cell_type": "code",
   "execution_count": 25,
   "metadata": {
    "collapsed": true
   },
   "outputs": [],
   "source": [
    "myModel = BayesianModel([('a','b'),('d','b'),('b','e'),('b','c'),('x','c'),('y','c')])\n",
    "\n",
    "myModel.add_cpd('a',[[0.2],[0.8]])\n",
    "myModel.add_cpd('d',[[0.4],[0.6]])\n",
    "myModel.add_cpd('b',[[0.2,0.6,0.55,0.9],[0.8,0.4,0.45,0.1]],evidences=['a','d'])\n",
    "myModel.add_cpd('e',[[0.78,0.8],[0.22,0.2]],evidences=['b'])\n",
    "myModel.add_cpd('c',[[0.1,0.2,0.3,0.4,0.5,0.6,0.7,0.8],\\\n",
    "                          [0.9,0.8,0.7,0.6,0.5,0.4,0.3,0.2]],evidences=['b','x','y'])\n",
    "myModel.add_cpd('x',[[0.34],[0.67]])\n",
    "myModel.add_cpd('y',[[0.7],[0.3]])\n",
    "\n",
    "ve = VE(myModel)"
   ]
  },
  {
   "cell_type": "code",
   "execution_count": 26,
   "metadata": {},
   "outputs": [
    {
     "name": "stdout",
     "output_type": "stream",
     "text": [
      "Variables: ('c',)\n",
      " Probability Distribution:\n",
      "{(True,): 0.22160000000000002, (False,): 0.7784}\n",
      "\n"
     ]
    },
    {
     "data": {
      "text/plain": [
       "<bayesianNet.Factor at 0x11166a0f0>"
      ]
     },
     "execution_count": 26,
     "metadata": {},
     "output_type": "execute_result"
    }
   ],
   "source": [
    "ve.query(['c'], {'x': True, 'y': True})"
   ]
  },
  {
   "cell_type": "code",
   "execution_count": 27,
   "metadata": {},
   "outputs": [
    {
     "name": "stdout",
     "output_type": "stream",
     "text": [
      "Variables: ('b',)\n",
      " Probability Distribution:\n",
      "{(True,): 0.2629482071713148, (False,): 0.7370517928286854}\n",
      "\n"
     ]
    },
    {
     "data": {
      "text/plain": [
       "<bayesianNet.Factor at 0x11166a978>"
      ]
     },
     "execution_count": 27,
     "metadata": {},
     "output_type": "execute_result"
    }
   ],
   "source": [
    "ve.query(['b'], {'c': True, 'a': True,'y':False})"
   ]
  },
  {
   "cell_type": "code",
   "execution_count": 28,
   "metadata": {},
   "outputs": [
    {
     "name": "stdout",
     "output_type": "stream",
     "text": [
      "Variables: ('e',)\n",
      " Probability Distribution:\n",
      "{(True,): 0.7879999999999999, (False,): 0.21200000000000005}\n",
      "\n"
     ]
    },
    {
     "data": {
      "text/plain": [
       "<bayesianNet.Factor at 0x11166a588>"
      ]
     },
     "execution_count": 28,
     "metadata": {},
     "output_type": "execute_result"
    }
   ],
   "source": [
    "ve.query(['e'], {'a': True, 'd': False})"
   ]
  },
  {
   "cell_type": "markdown",
   "metadata": {},
   "source": [
    "<br\\>\n",
    "## Model 2\n",
    "##### USE PGMPY\n",
    "-  0: True 1: False"
   ]
  },
  {
   "cell_type": "code",
   "execution_count": 29,
   "metadata": {
    "collapsed": true
   },
   "outputs": [],
   "source": [
    "from pgmpy.models import BayesianModel\n",
    "from pgmpy.factors.discrete import TabularCPD\n",
    "from pgmpy.inference import VariableElimination"
   ]
  },
  {
   "cell_type": "code",
   "execution_count": 30,
   "metadata": {
    "collapsed": true
   },
   "outputs": [],
   "source": [
    "pgmpyMdoel = BayesianModel([('a','d'),('a','e'),('b','e'),('e','x'),('c','x'),('d','y'),('x','y')])\n",
    "\n",
    "cpd_a = TabularCPD('a',2,[[0.3],[0.7]])\n",
    "cpd_b = TabularCPD('b',2,[[0.4],[0.6]])\n",
    "cpd_c = TabularCPD('c',2,[[0.34],[0.67]])\n",
    "cpd_d = TabularCPD('d',2,[[0.66,0.8],[0.34,0.2]],evidence=['a'],evidence_card=[2])\n",
    "cpd_e = TabularCPD('e',2,[[0.2,0.6,0.55,0.9],[0.8,0.4,0.45,0.1]],evidence=['a','b'],evidence_card=[2,2])\n",
    "cpd_x = TabularCPD('x',2,[[0.3,0.5,0.55,0.9],[0.7,0.5,0.45,0.1]],evidence=['e','c'],evidence_card=[2,2])\n",
    "cpd_y = TabularCPD('y',2,[[0.2,0.6,0.88,0.09],[0.8,0.4,0.12,0.91]],evidence=['d','x'],evidence_card=[2,2])\n",
    "\n",
    "pgmpyMdoel.add_cpds(cpd_a,cpd_d,cpd_b,cpd_e,cpd_c,cpd_x,cpd_y)\n",
    "\n",
    "infer = VariableElimination(pgmpyMdoel)"
   ]
  },
  {
   "cell_type": "code",
   "execution_count": 31,
   "metadata": {},
   "outputs": [
    {
     "name": "stdout",
     "output_type": "stream",
     "text": [
      "╒═════╤══════════╕\n",
      "│ y   │   phi(y) │\n",
      "╞═════╪══════════╡\n",
      "│ y_0 │   0.4284 │\n",
      "├─────┼──────────┤\n",
      "│ y_1 │   0.5716 │\n",
      "╘═════╧══════════╛\n"
     ]
    }
   ],
   "source": [
    "posteriors=infer.query(['y'],evidence={'a':0,'b':1,'c':0})\n",
    "print(posteriors['y'])"
   ]
  },
  {
   "cell_type": "code",
   "execution_count": 32,
   "metadata": {},
   "outputs": [
    {
     "name": "stdout",
     "output_type": "stream",
     "text": [
      "╒═════╤══════════╕\n",
      "│ d   │   phi(d) │\n",
      "╞═════╪══════════╡\n",
      "│ d_0 │   0.4762 │\n",
      "├─────┼──────────┤\n",
      "│ d_1 │   0.5238 │\n",
      "╘═════╧══════════╛\n"
     ]
    }
   ],
   "source": [
    "posteriors=infer.query(['d'],evidence={'y':0,'a':1,'x':0})\n",
    "print(posteriors['d'])"
   ]
  },
  {
   "cell_type": "code",
   "execution_count": 33,
   "metadata": {},
   "outputs": [
    {
     "name": "stdout",
     "output_type": "stream",
     "text": [
      "╒═════╤══════════╕\n",
      "│ e   │   phi(e) │\n",
      "╞═════╪══════════╡\n",
      "│ e_0 │   0.7874 │\n",
      "├─────┼──────────┤\n",
      "│ e_1 │   0.2126 │\n",
      "╘═════╧══════════╛\n"
     ]
    }
   ],
   "source": [
    "posteriors=infer.query(['e'],evidence={'y':1,'d':0,'b':1})\n",
    "print(posteriors['e'])"
   ]
  },
  {
   "cell_type": "markdown",
   "metadata": {},
   "source": [
    "##### USE MY BAYESIANNET TOOLBOX"
   ]
  },
  {
   "cell_type": "code",
   "execution_count": 34,
   "metadata": {
    "collapsed": true
   },
   "outputs": [],
   "source": [
    "from bayesianNet import *"
   ]
  },
  {
   "cell_type": "code",
   "execution_count": 35,
   "metadata": {
    "collapsed": true
   },
   "outputs": [],
   "source": [
    "myModel = BayesianModel([('a','d'),('a','e'),('b','e'),('e','x'),('c','x'),('d','y'),('x','y')])\n",
    "\n",
    "myModel.add_cpd('a',[[0.3],[0.7]])\n",
    "myModel.add_cpd('b',[[0.4],[0.6]])\n",
    "myModel.add_cpd('c',[[0.34],[0.67]])\n",
    "myModel.add_cpd('d',[[0.66,0.8],[0.34,0.2]],evidences=['a'])\n",
    "myModel.add_cpd('e',[[0.2,0.6,0.55,0.9],[0.8,0.4,0.45,0.1]],evidences=['a','b'])\n",
    "myModel.add_cpd('x',[[0.3,0.5,0.55,0.9],[0.7,0.5,0.45,0.1]],evidences=['e','c'])\n",
    "myModel.add_cpd('y',[[0.2,0.6,0.88,0.09],[0.8,0.4,0.12,0.91]],evidences=['d','x'])\n",
    "\n",
    "ve = VE(myModel)"
   ]
  },
  {
   "cell_type": "code",
   "execution_count": 36,
   "metadata": {},
   "outputs": [
    {
     "name": "stdout",
     "output_type": "stream",
     "text": [
      "Variables: ('y',)\n",
      " Probability Distribution:\n",
      "{(True,): 0.42844000000000004, (False,): 0.5715600000000001}\n",
      "\n"
     ]
    },
    {
     "data": {
      "text/plain": [
       "<bayesianNet.Factor at 0x11166b048>"
      ]
     },
     "execution_count": 36,
     "metadata": {},
     "output_type": "execute_result"
    }
   ],
   "source": [
    "ve.query(['y'],{'a':True,'b':False,'c':True})"
   ]
  },
  {
   "cell_type": "code",
   "execution_count": 37,
   "metadata": {},
   "outputs": [
    {
     "name": "stdout",
     "output_type": "stream",
     "text": [
      "Variables: ('d',)\n",
      " Probability Distribution:\n",
      "{(True,): 0.47619047619047616, (False,): 0.5238095238095238}\n",
      "\n"
     ]
    },
    {
     "data": {
      "text/plain": [
       "<bayesianNet.Factor at 0x11166bf28>"
      ]
     },
     "execution_count": 37,
     "metadata": {},
     "output_type": "execute_result"
    }
   ],
   "source": [
    "ve.query(['d'],{'y':True,'a':False,'x':True})"
   ]
  },
  {
   "cell_type": "code",
   "execution_count": 38,
   "metadata": {},
   "outputs": [
    {
     "name": "stdout",
     "output_type": "stream",
     "text": [
      "Variables: ('e',)\n",
      " Probability Distribution:\n",
      "{(True,): 0.7873752480884216, (False,): 0.21262475191157826}\n",
      "\n"
     ]
    },
    {
     "data": {
      "text/plain": [
       "<bayesianNet.Factor at 0x11163a7f0>"
      ]
     },
     "execution_count": 38,
     "metadata": {},
     "output_type": "execute_result"
    }
   ],
   "source": [
    "ve.query(['e'],{'d':True,'y':False,'b':False})"
   ]
  }
 ],
 "metadata": {
  "kernelspec": {
   "display_name": "Python 3",
   "language": "python",
   "name": "python3"
  },
  "language_info": {
   "codemirror_mode": {
    "name": "ipython",
    "version": 3.0
   },
   "file_extension": ".py",
   "mimetype": "text/x-python",
   "name": "python",
   "nbconvert_exporter": "python",
   "pygments_lexer": "ipython3",
   "version": "3.6.1"
  }
 },
 "nbformat": 4,
 "nbformat_minor": 0
}