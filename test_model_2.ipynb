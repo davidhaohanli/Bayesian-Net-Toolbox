{
 "cells": [
  {
   "cell_type": "code",
   "execution_count": 1,
   "metadata": {
    "collapsed": true
   },
   "outputs": [],
   "source": [
    "# USE PGMPY\n",
    "# 0: True 1: False\n",
    "\n",
    "from pgmpy.models import BayesianModel\n",
    "from pgmpy.factors.discrete import TabularCPD\n",
    "from pgmpy.inference import VariableElimination"
   ]
  },
  {
   "cell_type": "code",
   "execution_count": 2,
   "metadata": {
    "collapsed": true
   },
   "outputs": [],
   "source": [
    "pgmpyMdoel = BayesianModel([('a','d'),('a','e'),('b','e'),('e','x'),('c','x'),('d','y'),('x','y')])\n",
    "\n",
    "cpd_a = TabularCPD('a',2,[[0.3],[0.7]])\n",
    "cpd_b = TabularCPD('b',2,[[0.4],[0.6]])\n",
    "cpd_c = TabularCPD('c',2,[[0.34],[0.67]])\n",
    "cpd_d = TabularCPD('d',2,[[0.66,0.8],[0.34,0.2]],evidence=['a'],evidence_card=[2])\n",
    "cpd_e = TabularCPD('e',2,[[0.2,0.6,0.55,0.9],[0.8,0.4,0.45,0.1]],evidence=['a','b'],evidence_card=[2,2])\n",
    "cpd_x = TabularCPD('x',2,[[0.3,0.5,0.55,0.9],[0.7,0.5,0.45,0.1]],evidence=['e','c'],evidence_card=[2,2])\n",
    "cpd_y = TabularCPD('y',2,[[0.2,0.6,0.88,0.09],[0.8,0.4,0.12,0.91]],evidence=['d','x'],evidence_card=[2,2])\n",
    "\n",
    "pgmpyMdoel.add_cpds(cpd_a,cpd_d,cpd_b,cpd_e,cpd_c,cpd_x,cpd_y)\n",
    "\n",
    "infer = VariableElimination(pgmpyMdoel)"
   ]
  },
  {
   "cell_type": "code",
   "execution_count": 7,
   "metadata": {},
   "outputs": [
    {
     "name": "stdout",
     "output_type": "stream",
     "text": [
      "╒═════╤══════════╕\n",
      "│ y   │   phi(y) │\n",
      "╞═════╪══════════╡\n",
      "│ y_0 │   0.4284 │\n",
      "├─────┼──────────┤\n",
      "│ y_1 │   0.5716 │\n",
      "╘═════╧══════════╛\n"
     ]
    }
   ],
   "source": [
    "posteriors=infer.query(['y'],evidence={'a':0,'b':1,'c':0})\n",
    "print(posteriors['y'])"
   ]
  },
  {
   "cell_type": "code",
   "execution_count": 8,
   "metadata": {},
   "outputs": [
    {
     "name": "stdout",
     "output_type": "stream",
     "text": [
      "╒═════╤══════════╕\n",
      "│ d   │   phi(d) │\n",
      "╞═════╪══════════╡\n",
      "│ d_0 │   0.4762 │\n",
      "├─────┼──────────┤\n",
      "│ d_1 │   0.5238 │\n",
      "╘═════╧══════════╛\n"
     ]
    }
   ],
   "source": [
    "posteriors=infer.query(['d'],evidence={'y':0,'a':1,'x':0})\n",
    "print(posteriors['d'])"
   ]
  },
  {
   "cell_type": "code",
   "execution_count": 9,
   "metadata": {},
   "outputs": [
    {
     "name": "stdout",
     "output_type": "stream",
     "text": [
      "╒═════╤══════════╕\n",
      "│ e   │   phi(e) │\n",
      "╞═════╪══════════╡\n",
      "│ e_0 │   0.7874 │\n",
      "├─────┼──────────┤\n",
      "│ e_1 │   0.2126 │\n",
      "╘═════╧══════════╛\n"
     ]
    }
   ],
   "source": [
    "posteriors=infer.query(['e'],evidence={'y':1,'d':0,'b':1})\n",
    "print(posteriors['e'])"
   ]
  },
  {
   "cell_type": "code",
   "execution_count": 10,
   "metadata": {
    "collapsed": true
   },
   "outputs": [],
   "source": [
    "# USE MY BAYESIANNET TOOLBOX\n",
    "\n",
    "from bayesianNet import *"
   ]
  },
  {
   "cell_type": "code",
   "execution_count": 11,
   "metadata": {
    "collapsed": true
   },
   "outputs": [],
   "source": [
    "myModel = BayesianModel([('a','d'),('a','e'),('b','e'),('e','x'),('c','x'),('d','y'),('x','y')])\n",
    "\n",
    "myModel.add_cpd('a',[[0.3],[0.7]])\n",
    "myModel.add_cpd('b',[[0.4],[0.6]])\n",
    "myModel.add_cpd('c',[[0.34],[0.67]])\n",
    "myModel.add_cpd('d',[[0.66,0.8],[0.34,0.2]],evidences=['a'])\n",
    "myModel.add_cpd('e',[[0.2,0.6,0.55,0.9],[0.8,0.4,0.45,0.1]],evidences=['a','b'])\n",
    "myModel.add_cpd('x',[[0.3,0.5,0.55,0.9],[0.7,0.5,0.45,0.1]],evidences=['e','c'])\n",
    "myModel.add_cpd('y',[[0.2,0.6,0.88,0.09],[0.8,0.4,0.12,0.91]],evidences=['d','x'])\n",
    "\n",
    "ve = VE(myModel)"
   ]
  },
  {
   "cell_type": "code",
   "execution_count": 14,
   "metadata": {},
   "outputs": [
    {
     "name": "stdout",
     "output_type": "stream",
     "text": [
      "Variables: ('y',)\n",
      " Probability Distribution:\n",
      "{(True,): 0.42844000000000004, (False,): 0.5715600000000001}\n",
      "\n"
     ]
    },
    {
     "data": {
      "text/plain": [
       "<bayesianNet.Factor at 0x11653eb38>"
      ]
     },
     "execution_count": 14,
     "metadata": {},
     "output_type": "execute_result"
    }
   ],
   "source": [
    "ve.query(['y'],{'a':True,'b':False,'c':True})"
   ]
  },
  {
   "cell_type": "code",
   "execution_count": 16,
   "metadata": {},
   "outputs": [
    {
     "name": "stdout",
     "output_type": "stream",
     "text": [
      "Variables: ('d',)\n",
      " Probability Distribution:\n",
      "{(True,): 0.47619047619047616, (False,): 0.5238095238095238}\n",
      "\n"
     ]
    },
    {
     "data": {
      "text/plain": [
       "<bayesianNet.Factor at 0x1165cf710>"
      ]
     },
     "execution_count": 16,
     "metadata": {},
     "output_type": "execute_result"
    }
   ],
   "source": [
    "ve.query(['d'],{'y':True,'a':False,'x':True})"
   ]
  },
  {
   "cell_type": "code",
   "execution_count": 17,
   "metadata": {},
   "outputs": [
    {
     "name": "stdout",
     "output_type": "stream",
     "text": [
      "Variables: ('e',)\n",
      " Probability Distribution:\n",
      "{(True,): 0.7873752480884216, (False,): 0.21262475191157826}\n",
      "\n"
     ]
    },
    {
     "data": {
      "text/plain": [
       "<bayesianNet.Factor at 0x1165cfa20>"
      ]
     },
     "execution_count": 17,
     "metadata": {},
     "output_type": "execute_result"
    }
   ],
   "source": [
    "ve.query(['e'],{'d':True,'y':False,'b':False})"
   ]
  }
 ],
 "metadata": {
  "kernelspec": {
   "display_name": "Python 3",
   "language": "python",
   "name": "python3"
  },
  "language_info": {
   "codemirror_mode": {
    "name": "ipython",
    "version": 3
   },
   "file_extension": ".py",
   "mimetype": "text/x-python",
   "name": "python",
   "nbconvert_exporter": "python",
   "pygments_lexer": "ipython3",
   "version": "3.6.1"
  }
 },
 "nbformat": 4,
 "nbformat_minor": 2
}
