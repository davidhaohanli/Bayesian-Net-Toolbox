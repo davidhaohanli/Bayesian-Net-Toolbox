{
 "cells": [
  {
   "cell_type": "markdown",
   "metadata": {},
   "source": [
    "# Q4.\n",
    "##### USE MY BAYESIANNET TOOLBOX - Gibbs Sampling"
   ]
  },
  {
   "cell_type": "code",
   "execution_count": 10,
   "metadata": {
    "collapsed": true
   },
   "outputs": [],
   "source": [
    "%matplotlib inline"
   ]
  },
  {
   "cell_type": "code",
   "execution_count": 11,
   "metadata": {
    "collapsed": true
   },
   "outputs": [],
   "source": [
    "from bayesianNet import *"
   ]
  },
  {
   "cell_type": "code",
   "execution_count": 12,
   "metadata": {
    "collapsed": true
   },
   "outputs": [],
   "source": [
    "myModel = BayesianModel([('firstStep','secondStep'),('secondStep','thirdStep'),\\\n",
    "                             ('firstStep','sensor_s1'),('secondStep','sensor_s2'),('thirdStep','sensor_s3')])\n",
    "\n",
    "myModel.add_cpd('firstStep',[[0.2],[0.8]])\n",
    "myModel.add_cpd('secondStep',[[1, 0.2], [0, 0.8]],evidences=['firstStep'])\n",
    "myModel.add_cpd('thirdStep',[[1, 0.2], [0, 0.8]],evidences=['secondStep'])\n",
    "myModel.add_cpd('sensor_s1',[[1, 0.5], [0, 0.5]],evidences=['firstStep'])\n",
    "myModel.add_cpd('sensor_s2',[[1, 0.5], [0, 0.5]],evidences=['secondStep'])\n",
    "myModel.add_cpd('sensor_s3',[[1, 0.5], [0, 0.5]],evidences=['thirdStep'])\n",
    "\n",
    "gibbs = GibbsSampler(myModel,step=30000)\n",
    "\n",
    "tuner = GridSearchTuner(gibbs,burnInCoefficient=np.arange(0,0.3,0.03),thinningGap=np.arange(1,100))\n",
    "\n",
    "ve = VE(myModel)"
   ]
  },
  {
   "cell_type": "markdown",
   "metadata": {},
   "source": [
    "##### Query 1"
   ]
  },
  {
   "cell_type": "code",
   "execution_count": 13,
   "metadata": {},
   "outputs": [
    {
     "name": "stdout",
     "output_type": "stream",
     "text": [
      "Variables: ('thirdStep',)\n",
      " Probability Distribution:\n",
      "{(True,): 0.48799999999999993, (False,): 0.512}\n",
      "\n"
     ]
    }
   ],
   "source": [
    "### VE query\n",
    "exactFactor = ve.query(['thirdStep'])"
   ]
  },
  {
   "cell_type": "code",
   "execution_count": null,
   "metadata": {
    "scrolled": true
   },
   "outputs": [],
   "source": [
    "### Gibbs query with hyper-parameters tuning\n",
    "bestModel = tuner.tune(['thirdStep'],exactFactor,plotTrigger=True)"
   ]
  },
  {
   "cell_type": "markdown",
   "metadata": {},
   "source": [
    "##### Query 2"
   ]
  },
  {
   "cell_type": "code",
   "execution_count": null,
   "metadata": {},
   "outputs": [],
   "source": [
    "### VE query\n",
    "exactFactor = ve.query(['thirdStep'],evidences={'sensor_s2':True})"
   ]
  },
  {
   "cell_type": "code",
   "execution_count": null,
   "metadata": {},
   "outputs": [],
   "source": [
    "### Gibbs query with hyper-parameters tuning\n",
    "bestModel = tuner.tune(['thirdStep'],exactFactor,evidences={'sensor_s2':True},plotTrigger=True)"
   ]
  },
  {
   "cell_type": "markdown",
   "metadata": {},
   "source": [
    "##### Query 3"
   ]
  },
  {
   "cell_type": "code",
   "execution_count": null,
   "metadata": {},
   "outputs": [],
   "source": [
    "### VE query\n",
    "exactFactor = ve.query(['thirdStep'],evidences={'sensor_s1':True,'sensor_s2': False,'sensor_s3': True})"
   ]
  },
  {
   "cell_type": "code",
   "execution_count": null,
   "metadata": {},
   "outputs": [],
   "source": [
    "### Gibbs query with hyper-parameters tuning\n",
    "bestModel = tuner.tune(['thirdStep'],exactFactor,{'sensor_s1':True,'sensor_s2': False,'sensor_s3': True},\\\n",
    "                       plotTrigger=True)"
   ]
  }
 ],
 "metadata": {
  "kernelspec": {
   "display_name": "Python 3",
   "language": "python",
   "name": "python3"
  },
  "language_info": {
   "codemirror_mode": {
    "name": "ipython",
    "version": 3
   },
   "file_extension": ".py",
   "mimetype": "text/x-python",
   "name": "python",
   "nbconvert_exporter": "python",
   "pygments_lexer": "ipython3",
   "version": "3.6.1"
  }
 },
 "nbformat": 4,
 "nbformat_minor": 1
}
