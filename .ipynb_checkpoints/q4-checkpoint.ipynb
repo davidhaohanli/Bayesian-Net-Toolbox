{
 "cells": [
  {
   "cell_type": "markdown",
   "metadata": {},
   "source": [
    "# Q4.  \n",
    "<br\\>\n",
    "## Model 1\n",
    "##### USE PGMPY\n",
    "-  0: True 1: False"
   ]
  },
  {
   "cell_type": "code",
   "execution_count": 1,
   "metadata": {
    "collapsed": true
   },
   "outputs": [],
   "source": [
    "from pgmpy.models import BayesianModel\n",
    "from pgmpy.factors.discrete import TabularCPD\n",
    "from pgmpy.inference import VariableElimination"
   ]
  },
  {
   "cell_type": "code",
   "execution_count": 2,
   "metadata": {
    "collapsed": true
   },
   "outputs": [],
   "source": [
    "pgmpyMdoel = BayesianModel([('a','b'),('d','b'),('b','e'),('b','c'),('x','c'),('y','c')])\n",
    "\n",
    "cpd_a = TabularCPD('a',2,[[0.2],[0.8]])\n",
    "cpd_d = TabularCPD('d',2,[[0.4],[0.6]])\n",
    "cpd_b = TabularCPD('b',2,[[0.2,0.6,0.55,0.9],[0.8,0.4,0.45,0.1]],evidence=['a','d'],evidence_card=[2,2])\n",
    "cpd_e = TabularCPD('e',2,[[0.78,0.8],[0.22,0.2]],evidence=['b'],evidence_card=[2])\n",
    "cpd_c = TabularCPD('c',2,[[0.1,0.2,0.3,0.4,0.5,0.6,0.7,0.8],\\\n",
    "                          [0.9,0.8,0.7,0.6,0.5,0.4,0.3,0.2]],evidence=['b','x','y'],evidence_card=[2,2,2])\n",
    "cpd_x = TabularCPD('x',2,[[0.34],[0.67]])\n",
    "cpd_y = TabularCPD('y',2,[[0.7],[0.3]])\n",
    "\n",
    "pgmpyMdoel.add_cpds(cpd_a,cpd_d,cpd_b,cpd_e,cpd_c,cpd_x,cpd_y)\n",
    "\n",
    "infer = VariableElimination(pgmpyMdoel)"
   ]
  },
  {
   "cell_type": "code",
   "execution_count": 3,
   "metadata": {},
   "outputs": [
    {
     "name": "stdout",
     "output_type": "stream",
     "text": [
      "╒═════╤══════════╕\n",
      "│ c   │   phi(c) │\n",
      "╞═════╪══════════╡\n",
      "│ c_0 │   0.2216 │\n",
      "├─────┼──────────┤\n",
      "│ c_1 │   0.7784 │\n",
      "╘═════╧══════════╛\n"
     ]
    }
   ],
   "source": [
    "posteriors = infer.query(['c'], evidence={'x': 0, 'y': 0})\n",
    "print(posteriors['c'])"
   ]
  },
  {
   "cell_type": "code",
   "execution_count": 4,
   "metadata": {},
   "outputs": [
    {
     "name": "stdout",
     "output_type": "stream",
     "text": [
      "╒═════╤══════════╕\n",
      "│ b   │   phi(b) │\n",
      "╞═════╪══════════╡\n",
      "│ b_0 │   0.2629 │\n",
      "├─────┼──────────┤\n",
      "│ b_1 │   0.7371 │\n",
      "╘═════╧══════════╛\n"
     ]
    }
   ],
   "source": [
    "posteriors = infer.query(['b'], evidence={'c': 0, 'a': 0,'y':1})\n",
    "print(posteriors['b'])"
   ]
  },
  {
   "cell_type": "code",
   "execution_count": 5,
   "metadata": {},
   "outputs": [
    {
     "name": "stdout",
     "output_type": "stream",
     "text": [
      "╒═════╤══════════╕\n",
      "│ e   │   phi(e) │\n",
      "╞═════╪══════════╡\n",
      "│ e_0 │   0.7880 │\n",
      "├─────┼──────────┤\n",
      "│ e_1 │   0.2120 │\n",
      "╘═════╧══════════╛\n"
     ]
    }
   ],
   "source": [
    "posteriors = infer.query(['e'], evidence={'a': 0,'d':1})\n",
    "print(posteriors['e'])"
   ]
  },
  {
   "cell_type": "markdown",
   "metadata": {},
   "source": [
    "##### USE MY BAYESIANNET TOOLBOX"
   ]
  },
  {
   "cell_type": "code",
   "execution_count": 6,
   "metadata": {
    "collapsed": true
   },
   "outputs": [],
   "source": [
    "from bayesianNet import *"
   ]
  },
  {
   "cell_type": "code",
   "execution_count": 7,
   "metadata": {
    "collapsed": true
   },
   "outputs": [],
   "source": [
    "myModel = BayesianModel([('a','b'),('d','b'),('b','e'),('b','c'),('x','c'),('y','c')])\n",
    "\n",
    "myModel.add_cpd('a',[[0.2],[0.8]])\n",
    "myModel.add_cpd('d',[[0.4],[0.6]])\n",
    "myModel.add_cpd('b',[[0.2,0.6,0.55,0.9],[0.8,0.4,0.45,0.1]],evidences=['a','d'])\n",
    "myModel.add_cpd('e',[[0.78,0.8],[0.22,0.2]],evidences=['b'])\n",
    "myModel.add_cpd('c',[[0.1,0.2,0.3,0.4,0.5,0.6,0.7,0.8],\\\n",
    "                          [0.9,0.8,0.7,0.6,0.5,0.4,0.3,0.2]],evidences=['b','x','y'])\n",
    "myModel.add_cpd('x',[[0.34],[0.67]])\n",
    "myModel.add_cpd('y',[[0.7],[0.3]])\n",
    "\n",
    "gibbs = Gibbs_sampler(myModel)"
   ]
  },
  {
   "cell_type": "code",
   "execution_count": 8,
   "metadata": {},
   "outputs": [
    {
     "name": "stdout",
     "output_type": "stream",
     "text": [
      "Variables: ('c',)\n",
      " Probability Distribution:\n",
      "{(True,): 0.215, (False,): 0.785}\n",
      "\n"
     ]
    },
    {
     "data": {
      "text/plain": [
       "<bayesianNet.Factor at 0x11572d3c8>"
      ]
     },
     "execution_count": 8,
     "metadata": {},
     "output_type": "execute_result"
    }
   ],
   "source": [
    "gibbs.query(['c'], {'x': True, 'y': True})"
   ]
  },
  {
   "cell_type": "code",
   "execution_count": 9,
   "metadata": {},
   "outputs": [
    {
     "name": "stdout",
     "output_type": "stream",
     "text": [
      "Variables: ('b',)\n",
      " Probability Distribution:\n",
      "{(True,): 0.273, (False,): 0.727}\n",
      "\n"
     ]
    },
    {
     "data": {
      "text/plain": [
       "<bayesianNet.Factor at 0x1157d3cf8>"
      ]
     },
     "execution_count": 9,
     "metadata": {},
     "output_type": "execute_result"
    }
   ],
   "source": [
    "gibbs.query(['b'], {'c': True, 'a': True,'y':False})"
   ]
  },
  {
   "cell_type": "code",
   "execution_count": 10,
   "metadata": {},
   "outputs": [
    {
     "name": "stdout",
     "output_type": "stream",
     "text": [
      "Variables: ('e',)\n",
      " Probability Distribution:\n",
      "{(True,): 0.788, (False,): 0.212}\n",
      "\n"
     ]
    },
    {
     "data": {
      "text/plain": [
       "<bayesianNet.Factor at 0x1157f37b8>"
      ]
     },
     "execution_count": 10,
     "metadata": {},
     "output_type": "execute_result"
    }
   ],
   "source": [
    "gibbs.query(['e'], {'a': True, 'd': False})"
   ]
  },
  {
   "cell_type": "markdown",
   "metadata": {},
   "source": [
    "<br\\>\n",
    "## Model 2\n",
    "##### USE PGMPY\n",
    "-  0: True 1: False"
   ]
  },
  {
   "cell_type": "code",
   "execution_count": 11,
   "metadata": {
    "collapsed": true
   },
   "outputs": [],
   "source": [
    "from pgmpy.models import BayesianModel\n",
    "from pgmpy.factors.discrete import TabularCPD\n",
    "from pgmpy.inference import VariableElimination"
   ]
  },
  {
   "cell_type": "code",
   "execution_count": 12,
   "metadata": {
    "collapsed": true
   },
   "outputs": [],
   "source": [
    "pgmpyMdoel = BayesianModel([('a','d'),('a','e'),('b','e'),('e','x'),('c','x'),('d','y'),('x','y')])\n",
    "\n",
    "cpd_a = TabularCPD('a',2,[[0.3],[0.7]])\n",
    "cpd_b = TabularCPD('b',2,[[0.4],[0.6]])\n",
    "cpd_c = TabularCPD('c',2,[[0.34],[0.67]])\n",
    "cpd_d = TabularCPD('d',2,[[0.66,0.8],[0.34,0.2]],evidence=['a'],evidence_card=[2])\n",
    "cpd_e = TabularCPD('e',2,[[0.2,0.6,0.55,0.9],[0.8,0.4,0.45,0.1]],evidence=['a','b'],evidence_card=[2,2])\n",
    "cpd_x = TabularCPD('x',2,[[0.3,0.5,0.55,0.9],[0.7,0.5,0.45,0.1]],evidence=['e','c'],evidence_card=[2,2])\n",
    "cpd_y = TabularCPD('y',2,[[0.2,0.6,0.88,0.09],[0.8,0.4,0.12,0.91]],evidence=['d','x'],evidence_card=[2,2])\n",
    "\n",
    "pgmpyMdoel.add_cpds(cpd_a,cpd_d,cpd_b,cpd_e,cpd_c,cpd_x,cpd_y)\n",
    "\n",
    "infer = VariableElimination(pgmpyMdoel)"
   ]
  },
  {
   "cell_type": "code",
   "execution_count": 13,
   "metadata": {},
   "outputs": [
    {
     "name": "stdout",
     "output_type": "stream",
     "text": [
      "╒═════╤══════════╕\n",
      "│ y   │   phi(y) │\n",
      "╞═════╪══════════╡\n",
      "│ y_0 │   0.4284 │\n",
      "├─────┼──────────┤\n",
      "│ y_1 │   0.5716 │\n",
      "╘═════╧══════════╛\n"
     ]
    }
   ],
   "source": [
    "posteriors=infer.query(['y'],evidence={'a':0,'b':1,'c':0})\n",
    "print(posteriors['y'])"
   ]
  },
  {
   "cell_type": "code",
   "execution_count": 14,
   "metadata": {},
   "outputs": [
    {
     "name": "stdout",
     "output_type": "stream",
     "text": [
      "╒═════╤══════════╕\n",
      "│ d   │   phi(d) │\n",
      "╞═════╪══════════╡\n",
      "│ d_0 │   0.4762 │\n",
      "├─────┼──────────┤\n",
      "│ d_1 │   0.5238 │\n",
      "╘═════╧══════════╛\n"
     ]
    }
   ],
   "source": [
    "posteriors=infer.query(['d'],evidence={'y':0,'a':1,'x':0})\n",
    "print(posteriors['d'])"
   ]
  },
  {
   "cell_type": "code",
   "execution_count": 15,
   "metadata": {},
   "outputs": [
    {
     "name": "stdout",
     "output_type": "stream",
     "text": [
      "╒═════╤══════════╕\n",
      "│ e   │   phi(e) │\n",
      "╞═════╪══════════╡\n",
      "│ e_0 │   0.7874 │\n",
      "├─────┼──────────┤\n",
      "│ e_1 │   0.2126 │\n",
      "╘═════╧══════════╛\n"
     ]
    }
   ],
   "source": [
    "posteriors=infer.query(['e'],evidence={'y':1,'d':0,'b':1})\n",
    "print(posteriors['e'])"
   ]
  },
  {
   "cell_type": "markdown",
   "metadata": {},
   "source": [
    "##### USE MY BAYESIANNET TOOLBOX"
   ]
  },
  {
   "cell_type": "code",
   "execution_count": 16,
   "metadata": {
    "collapsed": true
   },
   "outputs": [],
   "source": [
    "from bayesianNet import *"
   ]
  },
  {
   "cell_type": "code",
   "execution_count": 17,
   "metadata": {
    "collapsed": true
   },
   "outputs": [],
   "source": [
    "myModel = BayesianModel([('a','d'),('a','e'),('b','e'),('e','x'),('c','x'),('d','y'),('x','y')])\n",
    "\n",
    "myModel.add_cpd('a',[[0.3],[0.7]])\n",
    "myModel.add_cpd('b',[[0.4],[0.6]])\n",
    "myModel.add_cpd('c',[[0.34],[0.67]])\n",
    "myModel.add_cpd('d',[[0.66,0.8],[0.34,0.2]],evidences=['a'])\n",
    "myModel.add_cpd('e',[[0.2,0.6,0.55,0.9],[0.8,0.4,0.45,0.1]],evidences=['a','b'])\n",
    "myModel.add_cpd('x',[[0.3,0.5,0.55,0.9],[0.7,0.5,0.45,0.1]],evidences=['e','c'])\n",
    "myModel.add_cpd('y',[[0.2,0.6,0.88,0.09],[0.8,0.4,0.12,0.91]],evidences=['d','x'])\n",
    "\n",
    "gibbs = Gibbs_sampler(myModel)"
   ]
  },
  {
   "cell_type": "code",
   "execution_count": 18,
   "metadata": {},
   "outputs": [
    {
     "name": "stdout",
     "output_type": "stream",
     "text": [
      "Variables: ('y',)\n",
      " Probability Distribution:\n",
      "{(True,): 0.383, (False,): 0.617}\n",
      "\n"
     ]
    },
    {
     "data": {
      "text/plain": [
       "<bayesianNet.Factor at 0x11573e6a0>"
      ]
     },
     "execution_count": 18,
     "metadata": {},
     "output_type": "execute_result"
    }
   ],
   "source": [
    "gibbs.query(['y'],{'a':True,'b':False,'c':True})"
   ]
  },
  {
   "cell_type": "code",
   "execution_count": 19,
   "metadata": {},
   "outputs": [
    {
     "name": "stdout",
     "output_type": "stream",
     "text": [
      "Variables: ('d',)\n",
      " Probability Distribution:\n",
      "{(True,): 0.474, (False,): 0.526}\n",
      "\n"
     ]
    },
    {
     "data": {
      "text/plain": [
       "<bayesianNet.Factor at 0x1157e1cf8>"
      ]
     },
     "execution_count": 19,
     "metadata": {},
     "output_type": "execute_result"
    }
   ],
   "source": [
    "gibbs.query(['d'],{'y':True,'a':False,'x':True})"
   ]
  },
  {
   "cell_type": "code",
   "execution_count": 20,
   "metadata": {},
   "outputs": [
    {
     "name": "stdout",
     "output_type": "stream",
     "text": [
      "Variables: ('e',)\n",
      " Probability Distribution:\n",
      "{(True,): 0.781, (False,): 0.219}\n",
      "\n"
     ]
    },
    {
     "data": {
      "text/plain": [
       "<bayesianNet.Factor at 0x1157f3dd8>"
      ]
     },
     "execution_count": 20,
     "metadata": {},
     "output_type": "execute_result"
    }
   ],
   "source": [
    "gibbs.query(['e'],{'d':True,'y':False,'b':False})"
   ]
  }
 ],
 "metadata": {
  "kernelspec": {
   "display_name": "Python 3",
   "language": "python",
   "name": "python3"
  },
  "language_info": {
   "codemirror_mode": {
    "name": "ipython",
    "version": 3
   },
   "file_extension": ".py",
   "mimetype": "text/x-python",
   "name": "python",
   "nbconvert_exporter": "python",
   "pygments_lexer": "ipython3",
   "version": "3.6.1"
  }
 },
 "nbformat": 4,
 "nbformat_minor": 1
}
